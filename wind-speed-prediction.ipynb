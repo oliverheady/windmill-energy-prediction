{
  "cells": [
    {
      "cell_type": "markdown",
      "metadata": {
        "id": "SWzftXiv-LdF"
      },
      "source": [
        "## Data and Description\n",
        "\n",
        "Energy can be produced from wind using windmills. Choosing a site for a wind farm (i.e. the location of the windmills), however, can be a multi-million dollar gamble. If wind is inadequate at the site, then the energy produced over the lifetime of the wind farm can be much less than the cost of building the operation. Hence, accurate prediction of wind speed at a candidate site can be an important component in the decision to build or not to build. Since energy produced varies as the square of the wind speed, even small errors in prediction can have serious consequences.\n",
        "\n",
        "One possible solution to help predict wind speed at a candidate site is to use wind speed at a nearby reference site. A reference site is a nearby location where the wind speed is already being monitored and should, theoretically, be similar to the candidate site. Using information from the reference site will allow windmill companies to know the wind speed at the candidate site without going through a costly data collection period, if the reference site is a good predictor.\n",
        "\n",
        "The Windmill data set contains measurements of wind speed (in meters per second m/s) at a **candidate site (CSpd) (column 1)** and at an accompanying **reference site (RSpd) (column 2)** for 1,116 areas. Download the Windmill.txt file from Canvas, and put it in the same folder as this R Markdown file."
      ]
    },
    {
      "cell_type": "code",
      "execution_count": null,
      "metadata": {
        "id": "4JIny4_u-LdI"
      },
      "outputs": [],
      "source": [
        "import pandas as pd\n",
        "import numpy as np\n",
        "from matplotlib import pyplot as plt\n",
        "import statsmodels.api as sm"
      ]
    },
    {
      "cell_type": "markdown",
      "metadata": {
        "id": "qn9OL5ck-LdK"
      },
      "source": [
        "#### 1. Briefly explain why simple linear regression is an appropriate tool to use in this situation.\n"
      ]
    },
    {
      "cell_type": "markdown",
      "metadata": {
        "id": "9RtENxvo-LdK"
      },
      "source": [
        "Simple linear regression is a good tool for this because it has one explanatory variable."
      ]
    },
    {
      "cell_type": "markdown",
      "metadata": {
        "id": "0YNcDa-t-LdK"
      },
      "source": [
        "#### 2. Read in the data set, and call the dataframe \"wind\". Print a summary of the data and make sure the data makes sense."
      ]
    },
    {
      "cell_type": "code",
      "execution_count": null,
      "metadata": {
        "colab": {
          "base_uri": "https://localhost:8080/",
          "height": 204
        },
        "id": "JVnBMvqZ-LdL",
        "outputId": "e1fa306b-f691-4dfa-c4fb-c747ec0dbec7"
      },
      "outputs": [
        {
          "output_type": "execute_result",
          "data": {
            "text/plain": [
              "   CSpd    RSpd\n",
              "0   6.9  5.9666\n",
              "1   7.1  7.2176\n",
              "2   7.8  7.9405\n",
              "3   6.9  6.0174\n",
              "4   5.5  6.1646"
            ],
            "text/html": [
              "\n",
              "  <div id=\"df-f114ab1c-72e7-4120-9641-ef652526dd62\" class=\"colab-df-container\">\n",
              "    <div>\n",
              "<style scoped>\n",
              "    .dataframe tbody tr th:only-of-type {\n",
              "        vertical-align: middle;\n",
              "    }\n",
              "\n",
              "    .dataframe tbody tr th {\n",
              "        vertical-align: top;\n",
              "    }\n",
              "\n",
              "    .dataframe thead th {\n",
              "        text-align: right;\n",
              "    }\n",
              "</style>\n",
              "<table border=\"1\" class=\"dataframe\">\n",
              "  <thead>\n",
              "    <tr style=\"text-align: right;\">\n",
              "      <th></th>\n",
              "      <th>CSpd</th>\n",
              "      <th>RSpd</th>\n",
              "    </tr>\n",
              "  </thead>\n",
              "  <tbody>\n",
              "    <tr>\n",
              "      <th>0</th>\n",
              "      <td>6.9</td>\n",
              "      <td>5.9666</td>\n",
              "    </tr>\n",
              "    <tr>\n",
              "      <th>1</th>\n",
              "      <td>7.1</td>\n",
              "      <td>7.2176</td>\n",
              "    </tr>\n",
              "    <tr>\n",
              "      <th>2</th>\n",
              "      <td>7.8</td>\n",
              "      <td>7.9405</td>\n",
              "    </tr>\n",
              "    <tr>\n",
              "      <th>3</th>\n",
              "      <td>6.9</td>\n",
              "      <td>6.0174</td>\n",
              "    </tr>\n",
              "    <tr>\n",
              "      <th>4</th>\n",
              "      <td>5.5</td>\n",
              "      <td>6.1646</td>\n",
              "    </tr>\n",
              "  </tbody>\n",
              "</table>\n",
              "</div>\n",
              "    <div class=\"colab-df-buttons\">\n",
              "\n",
              "  <div class=\"colab-df-container\">\n",
              "    <button class=\"colab-df-convert\" onclick=\"convertToInteractive('df-f114ab1c-72e7-4120-9641-ef652526dd62')\"\n",
              "            title=\"Convert this dataframe to an interactive table.\"\n",
              "            style=\"display:none;\">\n",
              "\n",
              "  <svg xmlns=\"http://www.w3.org/2000/svg\" height=\"24px\" viewBox=\"0 -960 960 960\">\n",
              "    <path d=\"M120-120v-720h720v720H120Zm60-500h600v-160H180v160Zm220 220h160v-160H400v160Zm0 220h160v-160H400v160ZM180-400h160v-160H180v160Zm440 0h160v-160H620v160ZM180-180h160v-160H180v160Zm440 0h160v-160H620v160Z\"/>\n",
              "  </svg>\n",
              "    </button>\n",
              "\n",
              "  <style>\n",
              "    .colab-df-container {\n",
              "      display:flex;\n",
              "      gap: 12px;\n",
              "    }\n",
              "\n",
              "    .colab-df-convert {\n",
              "      background-color: #E8F0FE;\n",
              "      border: none;\n",
              "      border-radius: 50%;\n",
              "      cursor: pointer;\n",
              "      display: none;\n",
              "      fill: #1967D2;\n",
              "      height: 32px;\n",
              "      padding: 0 0 0 0;\n",
              "      width: 32px;\n",
              "    }\n",
              "\n",
              "    .colab-df-convert:hover {\n",
              "      background-color: #E2EBFA;\n",
              "      box-shadow: 0px 1px 2px rgba(60, 64, 67, 0.3), 0px 1px 3px 1px rgba(60, 64, 67, 0.15);\n",
              "      fill: #174EA6;\n",
              "    }\n",
              "\n",
              "    .colab-df-buttons div {\n",
              "      margin-bottom: 4px;\n",
              "    }\n",
              "\n",
              "    [theme=dark] .colab-df-convert {\n",
              "      background-color: #3B4455;\n",
              "      fill: #D2E3FC;\n",
              "    }\n",
              "\n",
              "    [theme=dark] .colab-df-convert:hover {\n",
              "      background-color: #434B5C;\n",
              "      box-shadow: 0px 1px 3px 1px rgba(0, 0, 0, 0.15);\n",
              "      filter: drop-shadow(0px 1px 2px rgba(0, 0, 0, 0.3));\n",
              "      fill: #FFFFFF;\n",
              "    }\n",
              "  </style>\n",
              "\n",
              "    <script>\n",
              "      const buttonEl =\n",
              "        document.querySelector('#df-f114ab1c-72e7-4120-9641-ef652526dd62 button.colab-df-convert');\n",
              "      buttonEl.style.display =\n",
              "        google.colab.kernel.accessAllowed ? 'block' : 'none';\n",
              "\n",
              "      async function convertToInteractive(key) {\n",
              "        const element = document.querySelector('#df-f114ab1c-72e7-4120-9641-ef652526dd62');\n",
              "        const dataTable =\n",
              "          await google.colab.kernel.invokeFunction('convertToInteractive',\n",
              "                                                    [key], {});\n",
              "        if (!dataTable) return;\n",
              "\n",
              "        const docLinkHtml = 'Like what you see? Visit the ' +\n",
              "          '<a target=\"_blank\" href=https://colab.research.google.com/notebooks/data_table.ipynb>data table notebook</a>'\n",
              "          + ' to learn more about interactive tables.';\n",
              "        element.innerHTML = '';\n",
              "        dataTable['output_type'] = 'display_data';\n",
              "        await google.colab.output.renderOutput(dataTable, element);\n",
              "        const docLink = document.createElement('div');\n",
              "        docLink.innerHTML = docLinkHtml;\n",
              "        element.appendChild(docLink);\n",
              "      }\n",
              "    </script>\n",
              "  </div>\n",
              "\n",
              "\n",
              "<div id=\"df-fd89987f-7aab-4bf3-ae27-283be3cc4d9d\">\n",
              "  <button class=\"colab-df-quickchart\" onclick=\"quickchart('df-fd89987f-7aab-4bf3-ae27-283be3cc4d9d')\"\n",
              "            title=\"Suggest charts.\"\n",
              "            style=\"display:none;\">\n",
              "\n",
              "<svg xmlns=\"http://www.w3.org/2000/svg\" height=\"24px\"viewBox=\"0 0 24 24\"\n",
              "     width=\"24px\">\n",
              "    <g>\n",
              "        <path d=\"M19 3H5c-1.1 0-2 .9-2 2v14c0 1.1.9 2 2 2h14c1.1 0 2-.9 2-2V5c0-1.1-.9-2-2-2zM9 17H7v-7h2v7zm4 0h-2V7h2v10zm4 0h-2v-4h2v4z\"/>\n",
              "    </g>\n",
              "</svg>\n",
              "  </button>\n",
              "\n",
              "<style>\n",
              "  .colab-df-quickchart {\n",
              "      --bg-color: #E8F0FE;\n",
              "      --fill-color: #1967D2;\n",
              "      --hover-bg-color: #E2EBFA;\n",
              "      --hover-fill-color: #174EA6;\n",
              "      --disabled-fill-color: #AAA;\n",
              "      --disabled-bg-color: #DDD;\n",
              "  }\n",
              "\n",
              "  [theme=dark] .colab-df-quickchart {\n",
              "      --bg-color: #3B4455;\n",
              "      --fill-color: #D2E3FC;\n",
              "      --hover-bg-color: #434B5C;\n",
              "      --hover-fill-color: #FFFFFF;\n",
              "      --disabled-bg-color: #3B4455;\n",
              "      --disabled-fill-color: #666;\n",
              "  }\n",
              "\n",
              "  .colab-df-quickchart {\n",
              "    background-color: var(--bg-color);\n",
              "    border: none;\n",
              "    border-radius: 50%;\n",
              "    cursor: pointer;\n",
              "    display: none;\n",
              "    fill: var(--fill-color);\n",
              "    height: 32px;\n",
              "    padding: 0;\n",
              "    width: 32px;\n",
              "  }\n",
              "\n",
              "  .colab-df-quickchart:hover {\n",
              "    background-color: var(--hover-bg-color);\n",
              "    box-shadow: 0 1px 2px rgba(60, 64, 67, 0.3), 0 1px 3px 1px rgba(60, 64, 67, 0.15);\n",
              "    fill: var(--button-hover-fill-color);\n",
              "  }\n",
              "\n",
              "  .colab-df-quickchart-complete:disabled,\n",
              "  .colab-df-quickchart-complete:disabled:hover {\n",
              "    background-color: var(--disabled-bg-color);\n",
              "    fill: var(--disabled-fill-color);\n",
              "    box-shadow: none;\n",
              "  }\n",
              "\n",
              "  .colab-df-spinner {\n",
              "    border: 2px solid var(--fill-color);\n",
              "    border-color: transparent;\n",
              "    border-bottom-color: var(--fill-color);\n",
              "    animation:\n",
              "      spin 1s steps(1) infinite;\n",
              "  }\n",
              "\n",
              "  @keyframes spin {\n",
              "    0% {\n",
              "      border-color: transparent;\n",
              "      border-bottom-color: var(--fill-color);\n",
              "      border-left-color: var(--fill-color);\n",
              "    }\n",
              "    20% {\n",
              "      border-color: transparent;\n",
              "      border-left-color: var(--fill-color);\n",
              "      border-top-color: var(--fill-color);\n",
              "    }\n",
              "    30% {\n",
              "      border-color: transparent;\n",
              "      border-left-color: var(--fill-color);\n",
              "      border-top-color: var(--fill-color);\n",
              "      border-right-color: var(--fill-color);\n",
              "    }\n",
              "    40% {\n",
              "      border-color: transparent;\n",
              "      border-right-color: var(--fill-color);\n",
              "      border-top-color: var(--fill-color);\n",
              "    }\n",
              "    60% {\n",
              "      border-color: transparent;\n",
              "      border-right-color: var(--fill-color);\n",
              "    }\n",
              "    80% {\n",
              "      border-color: transparent;\n",
              "      border-right-color: var(--fill-color);\n",
              "      border-bottom-color: var(--fill-color);\n",
              "    }\n",
              "    90% {\n",
              "      border-color: transparent;\n",
              "      border-bottom-color: var(--fill-color);\n",
              "    }\n",
              "  }\n",
              "</style>\n",
              "\n",
              "  <script>\n",
              "    async function quickchart(key) {\n",
              "      const quickchartButtonEl =\n",
              "        document.querySelector('#' + key + ' button');\n",
              "      quickchartButtonEl.disabled = true;  // To prevent multiple clicks.\n",
              "      quickchartButtonEl.classList.add('colab-df-spinner');\n",
              "      try {\n",
              "        const charts = await google.colab.kernel.invokeFunction(\n",
              "            'suggestCharts', [key], {});\n",
              "      } catch (error) {\n",
              "        console.error('Error during call to suggestCharts:', error);\n",
              "      }\n",
              "      quickchartButtonEl.classList.remove('colab-df-spinner');\n",
              "      quickchartButtonEl.classList.add('colab-df-quickchart-complete');\n",
              "    }\n",
              "    (() => {\n",
              "      let quickchartButtonEl =\n",
              "        document.querySelector('#df-fd89987f-7aab-4bf3-ae27-283be3cc4d9d button');\n",
              "      quickchartButtonEl.style.display =\n",
              "        google.colab.kernel.accessAllowed ? 'block' : 'none';\n",
              "    })();\n",
              "  </script>\n",
              "</div>\n",
              "    </div>\n",
              "  </div>\n"
            ]
          },
          "metadata": {},
          "execution_count": 10
        }
      ],
      "source": [
        "wind = pd.read_table(\"/content/Windmill.txt\", delimiter=' ')\n",
        "wind.head()\n",
        "#wind.describe()"
      ]
    },
    {
      "cell_type": "markdown",
      "metadata": {
        "id": "FH3vn5lt-LdL"
      },
      "source": [
        "#### 3. What is the outcome variable in this situation? (Think about which variable makes the most sense to be the response.)\n"
      ]
    },
    {
      "cell_type": "markdown",
      "metadata": {
        "id": "_VgX0KGi-LdL"
      },
      "source": [
        "\n",
        "The outcome variable is wind speed at the candidate site."
      ]
    },
    {
      "cell_type": "markdown",
      "metadata": {
        "id": "KBQ23-lU-LdL"
      },
      "source": [
        "#### 4. What is the explanatory variable in this situation?\n"
      ]
    },
    {
      "cell_type": "markdown",
      "metadata": {
        "id": "UkEaJX7W-LdM"
      },
      "source": [
        "Wind speed at the reference site."
      ]
    },
    {
      "cell_type": "markdown",
      "metadata": {
        "id": "xHoE0mJt-LdM"
      },
      "source": [
        "#### 5. Create a scatterplot of the data with variables on the appropriate axes. Make the plot square. Add descriptive axis labels with appropriate units. Save the plot to a variable and print the plot."
      ]
    },
    {
      "cell_type": "code",
      "execution_count": null,
      "metadata": {
        "colab": {
          "base_uri": "https://localhost:8080/",
          "height": 368
        },
        "id": "3AEqLBFQ-LdM",
        "outputId": "46ae0404-3691-4219-d07d-3dfd7a31e79f"
      },
      "outputs": [
        {
          "output_type": "display_data",
          "data": {
            "text/plain": [
              "<Figure size 400x400 with 1 Axes>"
            ],
            "image/png": "[encoded data removed]"
          },
          "metadata": {}
        }
      ],
      "source": [
        "fig = plt.figure(figsize=(4, 4))\n",
        "plt.scatter(x = wind['RSpd'], y = wind['CSpd'], s = 2)\n",
        "plt.show()"
      ]
    },
    {
      "cell_type": "markdown",
      "metadata": {
        "id": "aee9Kw2y-LdM"
      },
      "source": [
        "#### 6. Briefly describe the relationship between RSpd and CSpd. (Hint: you should use 3 key words in a complete setence that includes referencing the variables.)\n"
      ]
    },
    {
      "cell_type": "markdown",
      "metadata": {
        "id": "Aj0TtjOJ-LdM"
      },
      "source": [
        "The two variables have a moderately strong positive correlation. This means it can be assumed that as wind speed increases at the reference site (our explanatory variable), the wind speed will also increase at our candidate site."
      ]
    },
    {
      "cell_type": "markdown",
      "metadata": {
        "id": "zULFkupa-LdN"
      },
      "source": [
        "#### 7. Calculate the correlation coefficient for the two variables (you may use a built-in Python function). Print the result."
      ]
    },
    {
      "cell_type": "code",
      "execution_count": null,
      "metadata": {
        "colab": {
          "base_uri": "https://localhost:8080/"
        },
        "id": "uWIAO96n-LdN",
        "outputId": "36afd602-6bb9-45a9-84cc-9628c4b171db"
      },
      "outputs": [
        {
          "output_type": "execute_result",
          "data": {
            "text/plain": [
              "0.755594790599378"
            ]
          },
          "metadata": {},
          "execution_count": 12
        }
      ],
      "source": [
        "corr_matrix = wind.corr()\n",
        "#print(corr_matrix)\n",
        "corr_matrix.loc['CSpd','RSpd']"
      ]
    },
    {
      "cell_type": "markdown",
      "metadata": {
        "id": "H8qjF-Ut-LdN"
      },
      "source": [
        "#### 8. Briefly interpret the number you calculated for the correlation coefficient (what is the direction and strength of the correlation?).\n"
      ]
    },
    {
      "cell_type": "markdown",
      "metadata": {
        "id": "mlpnz_j7-LdN"
      },
      "source": [
        "\n",
        "The correlation coefficient of 0.755 denotes that there is a strong positive corellation between the variables. This means that as the wind speed at the reference site increases, the 76% of the variability around an increase in wind speed at the candidate site can be explained."
      ]
    },
    {
      "cell_type": "markdown",
      "metadata": {
        "id": "-yuERioH-LdO"
      },
      "source": [
        "#### 9. Mathematically write out the theoretical/general simple linear regression model for this data set (using parameters ($\\beta$'s), not estimates, and not using matrix notation). Clearly explain which part of the model is deterministic and which part is random. Do not use \"x\" and \"y\" in your model - use variable names that are fairly descriptive."
      ]
    },
    {
      "cell_type": "markdown",
      "metadata": {
        "id": "k7c5r7le-LdO"
      },
      "source": [
        "$\\text{CSpd}_i$ = $\\beta_0$ + $\\beta_1$ $\\times$ $\\text{RSpd}_i$ + $\\epsilon_i$\n",
        "\n",
        "Deterministic > $\\beta_0$ + $\\beta_1$ $\\times$ $\\text{RSpd}_i$\n",
        "\n",
        "Random > $\\epsilon_i$"
      ]
    },
    {
      "cell_type": "markdown",
      "metadata": {
        "id": "FAp2eFuT-LdO"
      },
      "source": [
        "#### 10. Add the OLS regression line to the scatterplot you created in 4. Print the result. (Hint: use `np.polyfit`)\n"
      ]
    },
    {
      "cell_type": "code",
      "execution_count": null,
      "metadata": {
        "colab": {
          "base_uri": "https://localhost:8080/",
          "height": 368
        },
        "id": "DZk2iVTj-LdO",
        "outputId": "ed06db28-ef09-4e10-e2f0-e9c48595bc9b"
      },
      "outputs": [
        {
          "output_type": "display_data",
          "data": {
            "text/plain": [
              "<Figure size 400x400 with 1 Axes>"
            ],
            "image/png": "[encoded data removed]"
          },
          "metadata": {}
        }
      ],
      "source": [
        "x, y = wind['RSpd'], wind['CSpd']\n",
        "b1, b0 = np.polyfit(x, y, 1)\n",
        "#print(b1); print(b0)\n",
        "fig = plt.figure(figsize=(4, 4))\n",
        "plt.scatter(x, y, s = 2)\n",
        "plt.plot(x, b1 * x + b0, 'r')\n",
        "plt.show()"
      ]
    },
    {
      "cell_type": "markdown",
      "metadata": {
        "id": "SMNhpgP9-LdO"
      },
      "source": [
        "#### 11. (a) Apply linear regression to the data. (b) Print out a summary of the results from the `lm` function. (c) Save the residuals and fitted values to the `wind` dataframe. (d) Print the first few rows of the `wind` dataframe."
      ]
    },
    {
      "cell_type": "code",
      "execution_count": null,
      "metadata": {
        "colab": {
          "base_uri": "https://localhost:8080/"
        },
        "id": "6kkkmkC4-LdO",
        "outputId": "21918c40-dbe5-49ef-ee56-bd0f1a38aaad"
      },
      "outputs": [
        {
          "output_type": "stream",
          "name": "stdout",
          "text": [
            "      const     RSpd\n",
            "0       1.0   5.9666\n",
            "1       1.0   7.2176\n",
            "2       1.0   7.9405\n",
            "3       1.0   6.0174\n",
            "4       1.0   6.1646\n",
            "...     ...      ...\n",
            "1111    1.0  18.5025\n",
            "1112    1.0  21.2215\n",
            "1113    1.0  10.9579\n",
            "1114    1.0  10.0234\n",
            "1115    1.0   5.6299\n",
            "\n",
            "[1116 rows x 2 columns]\n"
          ]
        }
      ],
      "source": [
        "# Prepare data\n",
        "y = wind['CSpd']\n",
        "X = sm.add_constant(wind['RSpd'])\n",
        "print(X)"
      ]
    },
    {
      "cell_type": "code",
      "source": [
        "# Fit simple linear regression model using ordinary least squares\n",
        "mod = sm.OLS(y, X)\n",
        "res = mod.fit()\n",
        "print(res.summary())"
      ],
      "metadata": {
        "colab": {
          "base_uri": "https://localhost:8080/"
        },
        "id": "icH4a7KU80JE",
        "outputId": "86a18c11-e748-443c-f75b-db2a1e4037be"
      },
      "execution_count": null,
      "outputs": [
        {
          "output_type": "stream",
          "name": "stdout",
          "text": [
            "                            OLS Regression Results                            \n",
            "==============================================================================\n",
            "Dep. Variable:                   CSpd   R-squared:                       0.571\n",
            "Model:                            OLS   Adj. R-squared:                  0.571\n",
            "Method:                 Least Squares   F-statistic:                     1482.\n",
            "Date:                Thu, 07 Sep 2023   Prob (F-statistic):          6.63e-207\n",
            "Time:                        19:10:18   Log-Likelihood:                -2589.9\n",
            "No. Observations:                1116   AIC:                             5184.\n",
            "Df Residuals:                    1114   BIC:                             5194.\n",
            "Df Model:                           1                                         \n",
            "Covariance Type:            nonrobust                                         \n",
            "==============================================================================\n",
            "                 coef    std err          t      P>|t|      [0.025      0.975]\n",
            "------------------------------------------------------------------------------\n",
            "const          3.1412      0.170     18.524      0.000       2.809       3.474\n",
            "RSpd           0.7557      0.020     38.500      0.000       0.717       0.794\n",
            "==============================================================================\n",
            "Omnibus:                       35.417   Durbin-Watson:                   1.415\n",
            "Prob(Omnibus):                  0.000   Jarque-Bera (JB):               40.806\n",
            "Skew:                           0.386   Prob(JB):                     1.38e-09\n",
            "Kurtosis:                       3.531   Cond. No.                         20.1\n",
            "==============================================================================\n",
            "\n",
            "Notes:\n",
            "[1] Standard Errors assume that the covariance matrix of the errors is correctly specified.\n"
          ]
        }
      ]
    },
    {
      "cell_type": "code",
      "source": [
        "dir(res)"
      ],
      "metadata": {
        "colab": {
          "base_uri": "https://localhost:8080/"
        },
        "id": "k5UptJTT9vOI",
        "outputId": "8fe75687-e3a9-4ec3-837e-48b9f8fac3cd"
      },
      "execution_count": null,
      "outputs": [
        {
          "output_type": "execute_result",
          "data": {
            "text/plain": [
              "['HC0_se',\n",
              " 'HC1_se',\n",
              " 'HC2_se',\n",
              " 'HC3_se',\n",
              " '_HCCM',\n",
              " '__class__',\n",
              " '__delattr__',\n",
              " '__dict__',\n",
              " '__dir__',\n",
              " '__doc__',\n",
              " '__eq__',\n",
              " '__format__',\n",
              " '__ge__',\n",
              " '__getattribute__',\n",
              " '__gt__',\n",
              " '__hash__',\n",
              " '__init__',\n",
              " '__init_subclass__',\n",
              " '__le__',\n",
              " '__lt__',\n",
              " '__module__',\n",
              " '__ne__',\n",
              " '__new__',\n",
              " '__reduce__',\n",
              " '__reduce_ex__',\n",
              " '__repr__',\n",
              " '__setattr__',\n",
              " '__sizeof__',\n",
              " '__str__',\n",
              " '__subclasshook__',\n",
              " '__weakref__',\n",
              " '_abat_diagonal',\n",
              " '_cache',\n",
              " '_data_attr',\n",
              " '_data_in_cache',\n",
              " '_get_robustcov_results',\n",
              " '_get_wald_nonlinear',\n",
              " '_is_nested',\n",
              " '_transform_predict_exog',\n",
              " '_use_t',\n",
              " '_wexog_singular_values',\n",
              " 'aic',\n",
              " 'bic',\n",
              " 'bse',\n",
              " 'centered_tss',\n",
              " 'compare_f_test',\n",
              " 'compare_lm_test',\n",
              " 'compare_lr_test',\n",
              " 'condition_number',\n",
              " 'conf_int',\n",
              " 'conf_int_el',\n",
              " 'cov_HC0',\n",
              " 'cov_HC1',\n",
              " 'cov_HC2',\n",
              " 'cov_HC3',\n",
              " 'cov_kwds',\n",
              " 'cov_params',\n",
              " 'cov_type',\n",
              " 'df_model',\n",
              " 'df_resid',\n",
              " 'diagn',\n",
              " 'eigenvals',\n",
              " 'el_test',\n",
              " 'ess',\n",
              " 'f_pvalue',\n",
              " 'f_test',\n",
              " 'fittedvalues',\n",
              " 'fvalue',\n",
              " 'get_influence',\n",
              " 'get_prediction',\n",
              " 'get_robustcov_results',\n",
              " 'info_criteria',\n",
              " 'initialize',\n",
              " 'k_constant',\n",
              " 'llf',\n",
              " 'load',\n",
              " 'model',\n",
              " 'mse_model',\n",
              " 'mse_resid',\n",
              " 'mse_total',\n",
              " 'nobs',\n",
              " 'normalized_cov_params',\n",
              " 'outlier_test',\n",
              " 'params',\n",
              " 'predict',\n",
              " 'pvalues',\n",
              " 'remove_data',\n",
              " 'resid',\n",
              " 'resid_pearson',\n",
              " 'rsquared',\n",
              " 'rsquared_adj',\n",
              " 'save',\n",
              " 'scale',\n",
              " 'ssr',\n",
              " 'summary',\n",
              " 'summary2',\n",
              " 't_test',\n",
              " 't_test_pairwise',\n",
              " 'tvalues',\n",
              " 'uncentered_tss',\n",
              " 'use_t',\n",
              " 'wald_test',\n",
              " 'wald_test_terms',\n",
              " 'wresid']"
            ]
          },
          "metadata": {},
          "execution_count": 16
        }
      ]
    },
    {
      "cell_type": "code",
      "source": [
        "wind['residuals'] = res.resid\n",
        "wind['fittedvalues'] = res.fittedvalues\n",
        "wind.head()"
      ],
      "metadata": {
        "colab": {
          "base_uri": "https://localhost:8080/",
          "height": 204
        },
        "id": "F4-NvZKD9xE4",
        "outputId": "afd90762-559b-4aa5-976c-af295ef6e303"
      },
      "execution_count": null,
      "outputs": [
        {
          "output_type": "execute_result",
          "data": {
            "text/plain": [
              "   CSpd    RSpd  residuals  fittedvalues\n",
              "0   6.9  5.9666  -0.750391      7.650391\n",
              "1   7.1  7.2176  -1.495813      8.595813\n",
              "2   7.8  7.9405  -1.342133      9.142133\n",
              "3   6.9  6.0174  -0.788782      7.688782\n",
              "4   5.5  6.1646  -2.300026      7.800026"
            ],
            "text/html": [
              "\n",
              "  <div id=\"df-24dfdb13-a94c-4cba-a612-91ae02828918\" class=\"colab-df-container\">\n",
              "    <div>\n",
              "<style scoped>\n",
              "    .dataframe tbody tr th:only-of-type {\n",
              "        vertical-align: middle;\n",
              "    }\n",
              "\n",
              "    .dataframe tbody tr th {\n",
              "        vertical-align: top;\n",
              "    }\n",
              "\n",
              "    .dataframe thead th {\n",
              "        text-align: right;\n",
              "    }\n",
              "</style>\n",
              "<table border=\"1\" class=\"dataframe\">\n",
              "  <thead>\n",
              "    <tr style=\"text-align: right;\">\n",
              "      <th></th>\n",
              "      <th>CSpd</th>\n",
              "      <th>RSpd</th>\n",
              "      <th>residuals</th>\n",
              "      <th>fittedvalues</th>\n",
              "    </tr>\n",
              "  </thead>\n",
              "  <tbody>\n",
              "    <tr>\n",
              "      <th>0</th>\n",
              "      <td>6.9</td>\n",
              "      <td>5.9666</td>\n",
              "      <td>-0.750391</td>\n",
              "      <td>7.650391</td>\n",
              "    </tr>\n",
              "    <tr>\n",
              "      <th>1</th>\n",
              "      <td>7.1</td>\n",
              "      <td>7.2176</td>\n",
              "      <td>-1.495813</td>\n",
              "      <td>8.595813</td>\n",
              "    </tr>\n",
              "    <tr>\n",
              "      <th>2</th>\n",
              "      <td>7.8</td>\n",
              "      <td>7.9405</td>\n",
              "      <td>-1.342133</td>\n",
              "      <td>9.142133</td>\n",
              "    </tr>\n",
              "    <tr>\n",
              "      <th>3</th>\n",
              "      <td>6.9</td>\n",
              "      <td>6.0174</td>\n",
              "      <td>-0.788782</td>\n",
              "      <td>7.688782</td>\n",
              "    </tr>\n",
              "    <tr>\n",
              "      <th>4</th>\n",
              "      <td>5.5</td>\n",
              "      <td>6.1646</td>\n",
              "      <td>-2.300026</td>\n",
              "      <td>7.800026</td>\n",
              "    </tr>\n",
              "  </tbody>\n",
              "</table>\n",
              "</div>\n",
              "    <div class=\"colab-df-buttons\">\n",
              "\n",
              "  <div class=\"colab-df-container\">\n",
              "    <button class=\"colab-df-convert\" onclick=\"convertToInteractive('df-24dfdb13-a94c-4cba-a612-91ae02828918')\"\n",
              "            title=\"Convert this dataframe to an interactive table.\"\n",
              "            style=\"display:none;\">\n",
              "\n",
              "  <svg xmlns=\"http://www.w3.org/2000/svg\" height=\"24px\" viewBox=\"0 -960 960 960\">\n",
              "    <path d=\"M120-120v-720h720v720H120Zm60-500h600v-160H180v160Zm220 220h160v-160H400v160Zm0 220h160v-160H400v160ZM180-400h160v-160H180v160Zm440 0h160v-160H620v160ZM180-180h160v-160H180v160Zm440 0h160v-160H620v160Z\"/>\n",
              "  </svg>\n",
              "    </button>\n",
              "\n",
              "  <style>\n",
              "    .colab-df-container {\n",
              "      display:flex;\n",
              "      gap: 12px;\n",
              "    }\n",
              "\n",
              "    .colab-df-convert {\n",
              "      background-color: #E8F0FE;\n",
              "      border: none;\n",
              "      border-radius: 50%;\n",
              "      cursor: pointer;\n",
              "      display: none;\n",
              "      fill: #1967D2;\n",
              "      height: 32px;\n",
              "      padding: 0 0 0 0;\n",
              "      width: 32px;\n",
              "    }\n",
              "\n",
              "    .colab-df-convert:hover {\n",
              "      background-color: #E2EBFA;\n",
              "      box-shadow: 0px 1px 2px rgba(60, 64, 67, 0.3), 0px 1px 3px 1px rgba(60, 64, 67, 0.15);\n",
              "      fill: #174EA6;\n",
              "    }\n",
              "\n",
              "    .colab-df-buttons div {\n",
              "      margin-bottom: 4px;\n",
              "    }\n",
              "\n",
              "    [theme=dark] .colab-df-convert {\n",
              "      background-color: #3B4455;\n",
              "      fill: #D2E3FC;\n",
              "    }\n",
              "\n",
              "    [theme=dark] .colab-df-convert:hover {\n",
              "      background-color: #434B5C;\n",
              "      box-shadow: 0px 1px 3px 1px rgba(0, 0, 0, 0.15);\n",
              "      filter: drop-shadow(0px 1px 2px rgba(0, 0, 0, 0.3));\n",
              "      fill: #FFFFFF;\n",
              "    }\n",
              "  </style>\n",
              "\n",
              "    <script>\n",
              "      const buttonEl =\n",
              "        document.querySelector('#df-24dfdb13-a94c-4cba-a612-91ae02828918 button.colab-df-convert');\n",
              "      buttonEl.style.display =\n",
              "        google.colab.kernel.accessAllowed ? 'block' : 'none';\n",
              "\n",
              "      async function convertToInteractive(key) {\n",
              "        const element = document.querySelector('#df-24dfdb13-a94c-4cba-a612-91ae02828918');\n",
              "        const dataTable =\n",
              "          await google.colab.kernel.invokeFunction('convertToInteractive',\n",
              "                                                    [key], {});\n",
              "        if (!dataTable) return;\n",
              "\n",
              "        const docLinkHtml = 'Like what you see? Visit the ' +\n",
              "          '<a target=\"_blank\" href=https://colab.research.google.com/notebooks/data_table.ipynb>data table notebook</a>'\n",
              "          + ' to learn more about interactive tables.';\n",
              "        element.innerHTML = '';\n",
              "        dataTable['output_type'] = 'display_data';\n",
              "        await google.colab.output.renderOutput(dataTable, element);\n",
              "        const docLink = document.createElement('div');\n",
              "        docLink.innerHTML = docLinkHtml;\n",
              "        element.appendChild(docLink);\n",
              "      }\n",
              "    </script>\n",
              "  </div>\n",
              "\n",
              "\n",
              "<div id=\"df-9b99b65f-19ec-45b7-a71c-a23d1247f96f\">\n",
              "  <button class=\"colab-df-quickchart\" onclick=\"quickchart('df-9b99b65f-19ec-45b7-a71c-a23d1247f96f')\"\n",
              "            title=\"Suggest charts.\"\n",
              "            style=\"display:none;\">\n",
              "\n",
              "<svg xmlns=\"http://www.w3.org/2000/svg\" height=\"24px\"viewBox=\"0 0 24 24\"\n",
              "     width=\"24px\">\n",
              "    <g>\n",
              "        <path d=\"M19 3H5c-1.1 0-2 .9-2 2v14c0 1.1.9 2 2 2h14c1.1 0 2-.9 2-2V5c0-1.1-.9-2-2-2zM9 17H7v-7h2v7zm4 0h-2V7h2v10zm4 0h-2v-4h2v4z\"/>\n",
              "    </g>\n",
              "</svg>\n",
              "  </button>\n",
              "\n",
              "<style>\n",
              "  .colab-df-quickchart {\n",
              "      --bg-color: #E8F0FE;\n",
              "      --fill-color: #1967D2;\n",
              "      --hover-bg-color: #E2EBFA;\n",
              "      --hover-fill-color: #174EA6;\n",
              "      --disabled-fill-color: #AAA;\n",
              "      --disabled-bg-color: #DDD;\n",
              "  }\n",
              "\n",
              "  [theme=dark] .colab-df-quickchart {\n",
              "      --bg-color: #3B4455;\n",
              "      --fill-color: #D2E3FC;\n",
              "      --hover-bg-color: #434B5C;\n",
              "      --hover-fill-color: #FFFFFF;\n",
              "      --disabled-bg-color: #3B4455;\n",
              "      --disabled-fill-color: #666;\n",
              "  }\n",
              "\n",
              "  .colab-df-quickchart {\n",
              "    background-color: var(--bg-color);\n",
              "    border: none;\n",
              "    border-radius: 50%;\n",
              "    cursor: pointer;\n",
              "    display: none;\n",
              "    fill: var(--fill-color);\n",
              "    height: 32px;\n",
              "    padding: 0;\n",
              "    width: 32px;\n",
              "  }\n",
              "\n",
              "  .colab-df-quickchart:hover {\n",
              "    background-color: var(--hover-bg-color);\n",
              "    box-shadow: 0 1px 2px rgba(60, 64, 67, 0.3), 0 1px 3px 1px rgba(60, 64, 67, 0.15);\n",
              "    fill: var(--button-hover-fill-color);\n",
              "  }\n",
              "\n",
              "  .colab-df-quickchart-complete:disabled,\n",
              "  .colab-df-quickchart-complete:disabled:hover {\n",
              "    background-color: var(--disabled-bg-color);\n",
              "    fill: var(--disabled-fill-color);\n",
              "    box-shadow: none;\n",
              "  }\n",
              "\n",
              "  .colab-df-spinner {\n",
              "    border: 2px solid var(--fill-color);\n",
              "    border-color: transparent;\n",
              "    border-bottom-color: var(--fill-color);\n",
              "    animation:\n",
              "      spin 1s steps(1) infinite;\n",
              "  }\n",
              "\n",
              "  @keyframes spin {\n",
              "    0% {\n",
              "      border-color: transparent;\n",
              "      border-bottom-color: var(--fill-color);\n",
              "      border-left-color: var(--fill-color);\n",
              "    }\n",
              "    20% {\n",
              "      border-color: transparent;\n",
              "      border-left-color: var(--fill-color);\n",
              "      border-top-color: var(--fill-color);\n",
              "    }\n",
              "    30% {\n",
              "      border-color: transparent;\n",
              "      border-left-color: var(--fill-color);\n",
              "      border-top-color: var(--fill-color);\n",
              "      border-right-color: var(--fill-color);\n",
              "    }\n",
              "    40% {\n",
              "      border-color: transparent;\n",
              "      border-right-color: var(--fill-color);\n",
              "      border-top-color: var(--fill-color);\n",
              "    }\n",
              "    60% {\n",
              "      border-color: transparent;\n",
              "      border-right-color: var(--fill-color);\n",
              "    }\n",
              "    80% {\n",
              "      border-color: transparent;\n",
              "      border-right-color: var(--fill-color);\n",
              "      border-bottom-color: var(--fill-color);\n",
              "    }\n",
              "    90% {\n",
              "      border-color: transparent;\n",
              "      border-bottom-color: var(--fill-color);\n",
              "    }\n",
              "  }\n",
              "</style>\n",
              "\n",
              "  <script>\n",
              "    async function quickchart(key) {\n",
              "      const quickchartButtonEl =\n",
              "        document.querySelector('#' + key + ' button');\n",
              "      quickchartButtonEl.disabled = true;  // To prevent multiple clicks.\n",
              "      quickchartButtonEl.classList.add('colab-df-spinner');\n",
              "      try {\n",
              "        const charts = await google.colab.kernel.invokeFunction(\n",
              "            'suggestCharts', [key], {});\n",
              "      } catch (error) {\n",
              "        console.error('Error during call to suggestCharts:', error);\n",
              "      }\n",
              "      quickchartButtonEl.classList.remove('colab-df-spinner');\n",
              "      quickchartButtonEl.classList.add('colab-df-quickchart-complete');\n",
              "    }\n",
              "    (() => {\n",
              "      let quickchartButtonEl =\n",
              "        document.querySelector('#df-9b99b65f-19ec-45b7-a71c-a23d1247f96f button');\n",
              "      quickchartButtonEl.style.display =\n",
              "        google.colab.kernel.accessAllowed ? 'block' : 'none';\n",
              "    })();\n",
              "  </script>\n",
              "</div>\n",
              "    </div>\n",
              "  </div>\n"
            ]
          },
          "metadata": {},
          "execution_count": 17
        }
      ]
    },
    {
      "cell_type": "markdown",
      "metadata": {
        "id": "sLmRlKNE-LdO"
      },
      "source": [
        "#### 12. Briefly explain the rational behind the ordinary least-squares model fit (how does OLS choose the parameter estimates?)."
      ]
    },
    {
      "cell_type": "markdown",
      "metadata": {
        "id": "BLYavOOP-LdP"
      },
      "source": [
        "The OLS model finds the parameter estimates by squaring each residual and measuring the distance between each residual and the OLS line. It continues doing this until it's found the linear model that minimizes each of these distances the most."
      ]
    },
    {
      "cell_type": "markdown",
      "metadata": {
        "id": "WcACFl5t-LdP"
      },
      "source": [
        "#### 13. Mathematically write out the fitted simple linear regression model for this data set using the coefficients you found above (do not use parameters/$\\beta$'s and do not use matrix notation). Do not use \"x\" and \"y\" in your model - use variable names that are fairly descriptive."
      ]
    },
    {
      "cell_type": "markdown",
      "metadata": {
        "id": "tzDmkzRK-LdP"
      },
      "source": [
        "$\\text{CSpd}_i$ = $3.14$ + $0.76$$\\text{RSpd}_i$ + $\\epsilon_i$"
      ]
    },
    {
      "cell_type": "markdown",
      "metadata": {
        "id": "B1uhZ6-5-LdP"
      },
      "source": [
        "#### 14. Interpret the coefficient for the slope."
      ]
    },
    {
      "cell_type": "markdown",
      "metadata": {
        "id": "JDxAXwia-LdP"
      },
      "source": [
        "When the wind speed at the reference site increases by 1, the wind speed at the candidate site increases by an average of 0.76."
      ]
    },
    {
      "cell_type": "markdown",
      "metadata": {
        "id": "AsFeihCP-LdP"
      },
      "source": [
        "#### 15. Interpret the coefficient for the intercept."
      ]
    },
    {
      "cell_type": "markdown",
      "metadata": {
        "id": "lI6RSrKg-LdQ"
      },
      "source": [
        "When the wind speed at the reference site is zero, the wind speed at the candidate site is 3.14."
      ]
    },
    {
      "cell_type": "markdown",
      "metadata": {
        "id": "RLFU2yvy-LdR"
      },
      "source": [
        "#### 16. What is the average wind speed at the candidate site (CSpd) when the wind speed at the reference site (RSpd) is 12 m/s? Show your code, and print the result."
      ]
    },
    {
      "cell_type": "code",
      "execution_count": null,
      "metadata": {
        "id": "CQxTUR2k-LdR",
        "colab": {
          "base_uri": "https://localhost:8080/"
        },
        "outputId": "56e6f12f-872f-499f-e9aa-6e4881c1d069"
      },
      "outputs": [
        {
          "output_type": "stream",
          "name": "stdout",
          "text": [
            "12.26  m/s\n"
          ]
        }
      ],
      "source": [
        "windspeed = round(3.14 + (0.76 * 12), 2)\n",
        "print(windspeed , \" m/s\")"
      ]
    },
    {
      "cell_type": "markdown",
      "metadata": {
        "id": "W_qtOj4z-LdS"
      },
      "source": [
        "#### 17. Briefly explain why it would be wrong to answer this question: What is the average wind speed at the candidate site (CSpd) when the wind speed at the reference site (RSpd) is 25 m/s?"
      ]
    },
    {
      "cell_type": "markdown",
      "metadata": {
        "id": "0TOn3dNC-LdS"
      },
      "source": [
        "The collected data doesn't go far enough to explain a trend of wind speeds that high. The highest I would feel good about estimating is when the wind speeds a the candidate site are 15 m/s."
      ]
    },
    {
      "cell_type": "markdown",
      "metadata": {
        "id": "zFg25V_G-LdS"
      },
      "source": [
        "#### 18. Calculate the estimate of $\\sigma^2$, the average squared variability of the residuals around the line. Show your code, and print the result."
      ]
    },
    {
      "cell_type": "code",
      "execution_count": null,
      "metadata": {
        "id": "4JdvGlvJ-LdS",
        "colab": {
          "base_uri": "https://localhost:8080/"
        },
        "outputId": "55850bb1-4746-4f72-c9cb-1524f432a908"
      },
      "outputs": [
        {
          "output_type": "execute_result",
          "data": {
            "text/plain": [
              "6.0823116425499375"
            ]
          },
          "metadata": {},
          "execution_count": 20
        }
      ],
      "source": [
        "resids = wind['CSpd'] - wind['fittedvalues']\n",
        "#resids.head()\n",
        "sum(res.resid**2) / (res.df_resid)"
      ]
    },
    {
      "cell_type": "markdown",
      "metadata": {
        "id": "Hz7xjlgh-LdT"
      },
      "source": [
        "#### 19. Briefly summarize what you learned, personally, from this analysis about the statistics, model fitting process, etc."
      ]
    },
    {
      "cell_type": "markdown",
      "metadata": {
        "id": "zEJGrfSQ-LdT"
      },
      "source": [
        "There are a lot of steps! It's super important to keep track of which variables are representing what, and labeling numbers so they have context."
      ]
    },
    {
      "cell_type": "markdown",
      "metadata": {
        "id": "2oxcXZ2e-LdT"
      },
      "source": [
        "#### 20. Briefly summarize what you learned from this analysis *to a non-statistician*. Write a few sentences about (1) the purpose of this data set and analysis and (2) what you learned about this data set from your analysis. Write your response as if you were addressing a business manager (avoid using statistics jargon) and just provide the main take-aways."
      ]
    },
    {
      "cell_type": "markdown",
      "metadata": {
        "id": "80hYjp__-LdU"
      },
      "source": [
        "1) This dataset is meant to take the estimates of our reference site, and use it to estimate the performance of windmills at our candidate site. This analysis showed that if we build a similar installation at the new site, the wind speeds will be similar to the reference site 76% of the time. When the wind is slow at the reference site, it's a little faster at the candidate site, and when it's fast at the reference site, it's a little slower at the candidate site. If provided with data on the energy production of the candidate site (within the same timeframe as our existing data), my team may be able to predict energy production of the candidate site."
      ]
    }
  ],
  "metadata": {
    "kernelspec": {
      "display_name": "Python 3 (ipykernel)",
      "language": "python",
      "name": "python3"
    },
    "language_info": {
      "codemirror_mode": {
        "name": "ipython",
        "version": 3
      },
      "file_extension": ".py",
      "mimetype": "text/x-python",
      "name": "python",
      "nbconvert_exporter": "python",
      "pygments_lexer": "ipython3",
      "version": "3.11.4"
    },
    "vscode": {
      "interpreter": {
        "hash": "10d6072494707c7bc211d55efe88ce18f2fd102f2ffa80102aae223c8d3d6fa2"
      }
    },
    "colab": {
      "provenance": []
    }
  },
  "nbformat": 4,
  "nbformat_minor": 0
}